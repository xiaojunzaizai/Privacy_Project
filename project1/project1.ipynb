{
 "metadata": {
  "language_info": {
   "codemirror_mode": {
    "name": "ipython",
    "version": 3
   },
   "file_extension": ".py",
   "mimetype": "text/x-python",
   "name": "python",
   "nbconvert_exporter": "python",
   "pygments_lexer": "ipython3",
   "version": "3.7.6-final"
  },
  "orig_nbformat": 2,
  "kernelspec": {
   "name": "python3",
   "display_name": "Python 3",
   "language": "python"
  }
 },
 "nbformat": 4,
 "nbformat_minor": 2,
 "cells": [
  {
   "cell_type": "code",
   "execution_count": 49,
   "metadata": {},
   "outputs": [],
   "source": [
    "import networkx as nx\n",
    "import math\n",
    "import numpy as np"
   ]
  },
  {
   "source": [
    "#读取\n",
    "def get_seed():\n",
    "    G1 = nx.read_edgelist('seed_G1.edgelist')\n",
    "    G2 = nx.read_edgelist('seed_G2.edgelist')\n",
    "    with open('seed_node_pairs.txt','r') as sp:\n",
    "        lines = sp.readlines()\n",
    "    return G1,G2,lines\n"
   ],
   "cell_type": "code",
   "metadata": {},
   "execution_count": 15,
   "outputs": []
  },
  {
   "cell_type": "code",
   "execution_count": 16,
   "metadata": {},
   "outputs": [],
   "source": [
    "#获得G1 匹配的  与 G2 匹配的 并存入字典\n",
    "def get_pair(lines):\n",
    "    g1p = []\n",
    "    g1pdir = {}\n",
    "    g2p =[]\n",
    "    for line in lines:\n",
    "        line = line.strip('\\n')\n",
    "        line = line.split(' ')\n",
    "        g1p.append(line[0])\n",
    "        g2p.append(line[1])\n",
    "        g1pdir[line[0]] = line[1]\n",
    "    return g1p,g2p,g1pdir"
   ]
  },
  {
   "cell_type": "code",
   "execution_count": 17,
   "metadata": {},
   "outputs": [],
   "source": [
    "\n",
    "#获得未匹配过的 G1 与 G2 的 点\n",
    "def get_unpair(G1,G2):\n",
    "    g1np = []\n",
    "    g2np = []\n",
    "    for i in G1.nodes:\n",
    "        if i not in g1p:\n",
    "            g1np.append(i)\n",
    "    for j in G2.nodes:\n",
    "        if j not in g2p:\n",
    "            g2np.append(j)\n",
    "    return g1np,g2np"
   ]
  },
  {
   "cell_type": "code",
   "execution_count": 22,
   "metadata": {},
   "outputs": [],
   "source": [
    "def get_degree(node_list,G):\n",
    "    degree_dir = {}\n",
    "    for i in node_list:\n",
    "        degree_dir[i] = G.degree(i)\n",
    "    return degree_dir"
   ]
  },
  {
   "cell_type": "code",
   "execution_count": 34,
   "metadata": {},
   "outputs": [],
   "source": [
    "def check_in_pairs(node,G,pair_list):\n",
    "    in_pair_list =[]\n",
    "    for neighbor in G.neighbors(node):\n",
    "        if neighbor in pair_list:\n",
    "            in_pair_list.append(neighbor)\n",
    "    return in_pair_list      "
   ]
  },
  {
   "cell_type": "code",
   "execution_count": 41,
   "metadata": {},
   "outputs": [],
   "source": [
    "def check_in_other_neighbor(neighbor_pair_list,other_G,pair_dir,other_node):\n",
    "    other_pair_list = []\n",
    "    for i in neighbor_pair_list:\n",
    "        other_pair_list.append(pair_dir[i])\n",
    "    count = 0\n",
    "    for j in other_pair_list:\n",
    "        if j in other_G.neighbors(other_node):\n",
    "            count +=1\n",
    "    return count"
   ]
  },
  {
   "cell_type": "code",
   "execution_count": 47,
   "metadata": {},
   "outputs": [],
   "source": [
    "def get_score(node1_degree,node2_degree,count):\n",
    "    score = count/((math.sqrt(node1_degree))*(node2_degree))\n",
    "    return score"
   ]
  },
  {
   "cell_type": "code",
   "execution_count": 75,
   "metadata": {},
   "outputs": [],
   "source": [
    "def get_ECCE (score_list):\n",
    "    std = np.std(score_list)\n",
    "    max1 = max(score_list)\n",
    "    score_list.remove(max1)\n",
    "    max2 = max(score_list)\n",
    "    reslut = (max1-max2)/std\n",
    "    return reslut"
   ]
  },
  {
   "cell_type": "code",
   "execution_count": 23,
   "metadata": {},
   "outputs": [],
   "source": [
    "if __name__==\"__main__\":\n",
    "    G1,G2,node_pairs = get_seed()\n",
    "    G1_pair,G2_pair,G1_pair_dir = get_pair(node_pairs)\n",
    "    G1_unpair,G2_unpair = get_unpair(G1,G2)\n",
    "    G1_unpair_degree_dir = get_degree(G1_unpair,G1)\n",
    "    G2_unpair_degree_dir = get_degree(G2_unpair,G2)\n",
    "    "
   ]
  },
  {
   "cell_type": "code",
   "execution_count": 48,
   "metadata": {},
   "outputs": [
    {
     "output_type": "stream",
     "name": "stdout",
     "text": [
      "0.0035355339059327377\n"
     ]
    }
   ],
   "source": [
    "l = check_in_pairs('500',G1,G1_pair)\n",
    "\n",
    "count =check_in_other_neighbor(l,G2,G1_pair_dir,'1684')\n",
    "score = get_score(G1_unpair_degree_dir['500'],G2_unpair_degree_dir['1684'],count)\n",
    "print(score)"
   ]
  },
  {
   "cell_type": "code",
   "execution_count": 82,
   "metadata": {},
   "outputs": [
    {
     "output_type": "stream",
     "name": "stdout",
     "text": [
      "[0, 0.35355339059327373, 0.5]\n\n0.20988002112496087\n\n0.6977634584834215\n"
     ]
    }
   ],
   "source": [
    "a = 1/(2*math.sqrt(2))\n",
    "b =0\n",
    "c = 1/2\n",
    "d = [b,a,c]\n",
    "e = np.std(d)\n",
    "print(d)\n",
    "print()\n",
    "print(np.std(d))\n",
    "print()\n",
    "print(get_ECCE(d))"
   ]
  },
  {
   "cell_type": "code",
   "execution_count": 83,
   "metadata": {},
   "outputs": [
    {
     "output_type": "stream",
     "name": "stdout",
     "text": [
      "[0, 0.35355339059327373, 0.25]\n\n0.14840758617303568\n\n0.6977634584834211\n"
     ]
    }
   ],
   "source": [
    "a = 1/(2*math.sqrt(2))\n",
    "b =0\n",
    "c = 1/4\n",
    "d = [b,a,c]\n",
    "e = np.std(d)\n",
    "print(d)\n",
    "print()\n",
    "print(np.std(d))\n",
    "print()\n",
    "print(get_ECCE(d))"
   ]
  },
  {
   "cell_type": "code",
   "execution_count": null,
   "metadata": {},
   "outputs": [],
   "source": []
  }
 ]
}