{
 "cells": [
  {
   "cell_type": "code",
   "execution_count": 1,
   "metadata": {},
   "outputs": [],
   "source": [
    "import networkx as nx\n",
    "import math\n",
    "import numpy as np"
   ]
  },
  {
   "cell_type": "code",
   "execution_count": 2,
   "metadata": {},
   "outputs": [],
   "source": [
    "# READ:\n",
    "def get_seed(seed1,seed2,seed_pair):\n",
    "    G1 = nx.read_edgelist(seed1)\n",
    "    G2 = nx.read_edgelist(seed2)\n",
    "    with open(seed_pair,'r') as sp:\n",
    "        lines = sp.readlines()\n",
    "    return G1,G2,lines\n"
   ]
  },
  {
   "cell_type": "code",
   "execution_count": 3,
   "metadata": {},
   "outputs": [],
   "source": [
    "# Get G1,G2 paired nodes and stored in Dictionary\n",
    "def get_pair(lines):\n",
    "    g1p = []\n",
    "    g1pdir = {}\n",
    "    g2p =[]\n",
    "    for line in lines:\n",
    "        line = line.strip('\\n')\n",
    "        line = line.split(' ')\n",
    "        g1p.append(line[0])\n",
    "        g2p.append(line[1])\n",
    "        g1pdir[line[0]] = line[1]\n",
    "    return g1p,g2p,g1pdir"
   ]
  },
  {
   "cell_type": "code",
   "execution_count": 4,
   "metadata": {},
   "outputs": [],
   "source": [
    "#Get G1, G2 unpaired nodes\n",
    "def get_unpair(G1,G2,g1p,g2p):\n",
    "    g1np = []\n",
    "    g2np = []\n",
    "    for i in G1.nodes:\n",
    "        if i not in g1p:\n",
    "            g1np.append(i)\n",
    "    for j in G2.nodes:\n",
    "        if j not in g2p:\n",
    "            g2np.append(j)\n",
    "    return g1np,g2np"
   ]
  },
  {
   "cell_type": "code",
   "execution_count": 5,
   "metadata": {},
   "outputs": [],
   "source": [
    "# Get nodes' degrees\n",
    "def get_degree(node_list,G):\n",
    "    degree_dir = {}\n",
    "    for i in node_list:\n",
    "        degree_dir[i] = G.degree(i)\n",
    "    return degree_dir"
   ]
  },
  {
   "cell_type": "code",
   "execution_count": 6,
   "metadata": {},
   "outputs": [],
   "source": [
    "# get node's neighbors which are in the pair list\n",
    "def check_in_pairs(node,G,pair_list):\n",
    "    in_pair_list =[]\n",
    "    for neighbor in G.neighbors(node):\n",
    "        if neighbor in pair_list:\n",
    "            in_pair_list.append(neighbor)\n",
    "    return in_pair_list      "
   ]
  },
  {
   "cell_type": "code",
   "execution_count": 7,
   "metadata": {},
   "outputs": [],
   "source": [
    "# Count how many paired neighbors are in another Graph (G2).\n",
    "def check_in_other_neighbor(neighbor_pair_list,other_G,pair_dir,other_node):\n",
    "    other_pair_list = []\n",
    "    for i in neighbor_pair_list:\n",
    "        other_pair_list.append(pair_dir[i])\n",
    "    count = 0\n",
    "    for j in other_pair_list:\n",
    "        if j in other_G.neighbors(other_node):\n",
    "            count +=1\n",
    "    return count"
   ]
  },
  {
   "cell_type": "code",
   "execution_count": 8,
   "metadata": {},
   "outputs": [],
   "source": [
    "# Calculate the score\n",
    "def get_score(node1_degree,node2_degree,count):\n",
    "    score = count/((math.sqrt(node1_degree))*(math.sqrt(node2_degree)))\n",
    "    return score"
   ]
  },
  {
   "cell_type": "code",
   "execution_count": 9,
   "metadata": {},
   "outputs": [],
   "source": [
    "# Calculate ECCE \n",
    "def get_ECCE (score_list):\n",
    "    std = np.std(score_list)\n",
    "    max1 = max(score_list)\n",
    "    score_list.remove(max1)\n",
    "    max2 = max(score_list)\n",
    "    if std == 0:\n",
    "        result = 0\n",
    "    else:\n",
    "        result = (max1-max2)/std\n",
    "    return result"
   ]
  },
  {
   "cell_type": "code",
   "execution_count": 10,
   "metadata": {},
   "outputs": [],
   "source": [
    "# Based on dictionary's value, get the key.\n",
    "def get_key (dict, value):\n",
    "    for k, v in dict.items():\n",
    "         if v == value:\n",
    "             a = k \n",
    "    return a"
   ]
  },
  {
   "cell_type": "code",
   "execution_count": 11,
   "metadata": {},
   "outputs": [],
   "source": [
    "# Calculate G1's one node and All G2 unpaired nodes  ECCE and find the Maximun score's G2 node.\n",
    "def G1_node_compare_G2(node,G1,G1_pair,G2,G1_pair_dir,G1_unpair_degree_dir,G2_unpair_degree_dir,G2_unpair):\n",
    "    node_pair_list = check_in_pairs(node,G1,G1_pair)\n",
    "    G2_node_and_score = {}\n",
    "    for j in G2_unpair:\n",
    "        count = check_in_other_neighbor(node_pair_list,G2,G1_pair_dir,j)\n",
    "        score = get_score(G1_unpair_degree_dir[node],G2_unpair_degree_dir[j],count)\n",
    "        G2_node_and_score[j] = score\n",
    "\n",
    "    score_list = list(G2_node_and_score.values())\n",
    "    max_score_G2_node = get_key(G2_node_and_score,max(score_list))\n",
    "    ECCE_score = get_ECCE(score_list)\n",
    "    return ECCE_score, max_score_G2_node\n"
   ]
  },
  {
   "cell_type": "code",
   "execution_count": 12,
   "metadata": {},
   "outputs": [],
   "source": [
    "# If ECCE larger than my setting value. Update G1 pair list, G2 pair list, G1 pair dictionary, and G1, & G2 unpaired list\n",
    "def update_pair(ecce,node1,node2,v,G1_pair,G2_pair,G1_pair_dir,G1_unpair,G2_unpair):\n",
    "    if ecce > v:\n",
    "        G1_pair.append(node1)\n",
    "        G2_pair.append(node2)\n",
    "        G1_pair_dir[node1] = node2\n",
    "        G1_unpair.remove(node1)\n",
    "        G2_unpair.remove(node2)\n",
    "        \n",
    "\n",
    "    return G1_pair,G2_pair,G1_pair_dir,G1_unpair,G2_unpair\n",
    "        "
   ]
  },
  {
   "cell_type": "code",
   "execution_count": 13,
   "metadata": {},
   "outputs": [],
   "source": [
    "# Read all G1's nodes to do the calculation and update the lists. \n",
    "def get_result(v,G1,G2,G1_pair,G2_pair,G1_pair_dir,G1_unpair,G2_unpair,G1_unpair_degree_dir,G2_unpair_degree_dir):\n",
    "    for node in G1_unpair:\n",
    "        ecce,max_node = G1_node_compare_G2(node,G1,G1_pair,G2,G1_pair_dir,G1_unpair_degree_dir,G2_unpair_degree_dir,G2_unpair)\n",
    "        G1_pair,G2_pair,G1_pair_dir,G1_unpair,G2_unpair = update_pair(ecce,node,max_node,v,G1_pair,G2_pair,G1_pair_dir,G1_unpair,G2_unpair)\n",
    "\n",
    "    return G1_pair,G2_pair,G1_pair_dir,G1_unpair,G2_unpair\n",
    "\n",
    "        \n"
   ]
  },
  {
   "cell_type": "code",
   "execution_count": 14,
   "metadata": {},
   "outputs": [],
   "source": [
    "# Passing two seeds' location and pair list location to get two graph and get final result lists.\n",
    "def running (seed1,seed2,seed_pair,v):\n",
    "    G1,G2,node_pairs = get_seed(seed1,seed2,seed_pair)\n",
    "    old_G1_pair,old_G2_pair, old_G1_pair_dir = get_pair(node_pairs)\n",
    "\n",
    "    G1_pair = []\n",
    "    G2_pair = []\n",
    "    G1_pair_dir = {}\n",
    "    for i in range(400):\n",
    "        G1_pair.append(old_G1_pair[i])\n",
    "        G2_pair.append(old_G2_pair[i])\n",
    "        G1_pair_dir[old_G1_pair[i]] = old_G2_pair[i]\n",
    "    G1_unpair,G2_unpair = get_unpair(G1,G2,G1_pair,G2_pair)\n",
    "    G1_unpair_degree_dir = get_degree(G1_unpair,G1)\n",
    "    G2_unpair_degree_dir = get_degree(G2_unpair,G2)\n",
    "\n",
    "    G1_pair,G2_pair,G1_pair_dir,G1_unpair,G2_unpair = get_result(v,G1,G2,G1_pair,G2_pair,G1_pair_dir,G1_unpair,G2_unpair,G1_unpair_degree_dir,G2_unpair_degree_dir)\n",
    "    return G1_pair,G2_pair,G1_pair_dir,G1_unpair,G2_unpair,old_G1_pair,old_G2_pair, old_G1_pair_dir"
   ]
  },
  {
   "cell_type": "code",
   "execution_count": 15,
   "metadata": {},
   "outputs": [],
   "source": [
    "# main method\n",
    "if __name__==\"__main__\":\n",
    "    seed1 = 'seed_G1.edgelist'\n",
    "    seed2 = 'seed_G2.edgelist'\n",
    "    seed_pair = 'seed_node_pairs.txt'\n",
    "    v = 0.5\n",
    "    G1_pair,G2_pair,G1_pair_dir,G1_unpair,G2_unpair,old_G1_pair,old_G2_pair, old_G1_pair_dir = running(seed1,seed2,seed_pair,v)\n",
    "    "
   ]
  },
  {
   "cell_type": "code",
   "execution_count": 16,
   "metadata": {},
   "outputs": [
    {
     "name": "stdout",
     "output_type": "stream",
     "text": [
      "The accuracy is : 0.52\n"
     ]
    }
   ],
   "source": [
    "count = 0\n",
    "for i in range(400,len(old_G1_pair)):\n",
    "    if old_G1_pair[i] in G1_pair and G1_pair_dir[old_G1_pair[i]] == old_G1_pair_dir[old_G1_pair[i]]:\n",
    "        count +=1\n",
    "accuracy = count/100\n",
    "\n",
    "print('The accuracy is : ' + str(accuracy))"
   ]
  },
  {
   "cell_type": "code",
   "execution_count": 17,
   "metadata": {},
   "outputs": [
    {
     "name": "stdout",
     "output_type": "stream",
     "text": [
      "2448\n"
     ]
    }
   ],
   "source": [
    "print(len(G1_pair))"
   ]
  },
  {
   "cell_type": "code",
   "execution_count": 18,
   "metadata": {},
   "outputs": [
    {
     "name": "stdout",
     "output_type": "stream",
     "text": [
      "2115\n"
     ]
    }
   ],
   "source": [
    "print(len(G1_unpair))"
   ]
  },
  {
   "cell_type": "code",
   "execution_count": 19,
   "metadata": {},
   "outputs": [],
   "source": [
    "with open('pairs.txt','w')as f:\n",
    "    for i in G1_pair:\n",
    "        s = i + ' ' + G1_pair_dir[i]+'\\n'\n",
    "        f.write(s) "
   ]
  },
  {
   "cell_type": "code",
   "execution_count": null,
   "metadata": {},
   "outputs": [],
   "source": []
  }
 ],
 "metadata": {
  "kernelspec": {
   "display_name": "Python 3.7.6 64-bit",
   "language": "python",
   "name": "python37664bite575340ac3344562b3492a72d57f1f44"
  },
  "language_info": {
   "codemirror_mode": {
    "name": "ipython",
    "version": 3
   },
   "file_extension": ".py",
   "mimetype": "text/x-python",
   "name": "python",
   "nbconvert_exporter": "python",
   "pygments_lexer": "ipython3",
   "version": "3.7.6"
  },
  "metadata": {
   "interpreter": {
    "hash": "aee8b7b246df8f9039afb4144a1f6fd8d2ca17a180786b69acc140d282b71a49"
   }
  }
 },
 "nbformat": 4,
 "nbformat_minor": 2
}
