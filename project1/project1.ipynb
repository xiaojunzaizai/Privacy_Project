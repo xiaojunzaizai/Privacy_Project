{
 "metadata": {
  "language_info": {
   "codemirror_mode": {
    "name": "ipython",
    "version": 3
   },
   "file_extension": ".py",
   "mimetype": "text/x-python",
   "name": "python",
   "nbconvert_exporter": "python",
   "pygments_lexer": "ipython3",
   "version": "3.7.7-final"
  },
  "orig_nbformat": 2,
  "kernelspec": {
   "name": "python3",
   "display_name": "Python 3",
   "language": "python"
  }
 },
 "nbformat": 4,
 "nbformat_minor": 2,
 "cells": [
  {
   "cell_type": "code",
   "execution_count": 2,
   "metadata": {},
   "outputs": [],
   "source": [
    "import networkx as nx\n",
    "import math"
   ]
  },
  {
   "cell_type": "code",
   "execution_count": 3,
   "metadata": {},
   "outputs": [],
   "source": [
    "#读取\n",
    "G1 = nx.read_edgelist('seed_G1.edgelist')\n",
    "G2 = nx.read_edgelist('seed_G2.edgelist')\n",
    "with open('seed_node_pairs.txt','r') as sp:\n",
    "    lines = sp.readlines()"
   ]
  },
  {
   "cell_type": "code",
   "execution_count": 4,
   "metadata": {},
   "outputs": [],
   "source": [
    "#获得G1 匹配的  与 G2 匹配的 并存入字典\n",
    "g1p = []\n",
    "g1pdir = {}\n",
    "g2p =[]"
   ]
  },
  {
   "cell_type": "code",
   "execution_count": 5,
   "metadata": {},
   "outputs": [],
   "source": [
    "for line in lines:\n",
    "    line = line.strip('\\n')\n",
    "    line = line.split(' ')\n",
    "    g1p.append(line[0])\n",
    "    g2p.append(line[1])\n",
    "    g1pdir[line[0]] = line[1]"
   ]
  },
  {
   "cell_type": "code",
   "execution_count": 6,
   "metadata": {
    "tags": []
   },
   "outputs": [],
   "source": [
    "\n",
    "l = []\n",
    "for i in G1.nodes:\n",
    "    l.append(int(i))\n",
    "y = sorted(l)\n",
    "with open('G1.txt','w') as f:\n",
    "    for j in range(len(y)):\n",
    "        f.write(str(y[j])+ \"\\n\") \n"
   ]
  },
  {
   "cell_type": "code",
   "execution_count": 11,
   "metadata": {},
   "outputs": [],
   "source": [
    "\n",
    "#获得未匹配过的 G1 与 G2 的 点\n",
    "g1np = []\n",
    "g2np = []\n",
    "for i in G1.nodes:\n",
    "    if i not in g1p:\n",
    "        g1np.append(i)\n",
    "for j in G2.nodes:\n",
    "    if j not in g2p:\n",
    "        g2np.append(j)"
   ]
  },
  {
   "cell_type": "code",
   "execution_count": 13,
   "metadata": {
    "tags": []
   },
   "outputs": [
    {
     "output_type": "stream",
     "name": "stdout",
     "text": [
      "500\n4063\nName: \nType: Graph\nNumber of nodes: 4563\nNumber of edges: 159748\nAverage degree:  70.0188\n"
     ]
    }
   ],
   "source": [
    "print(len(g1p))\n",
    "print(len(g1np))\n",
    "print(nx.info(G1))"
   ]
  },
  {
   "cell_type": "code",
   "execution_count": null,
   "metadata": {},
   "outputs": [],
   "source": []
  }
 ]
}