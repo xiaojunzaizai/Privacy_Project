{
 "metadata": {
  "language_info": {
   "codemirror_mode": {
    "name": "ipython",
    "version": 3
   },
   "file_extension": ".py",
   "mimetype": "text/x-python",
   "name": "python",
   "nbconvert_exporter": "python",
   "pygments_lexer": "ipython3",
   "version": "3.7.6-final"
  },
  "orig_nbformat": 2,
  "kernelspec": {
   "name": "python3",
   "display_name": "Python 3.7.6 64-bit",
   "metadata": {
    "interpreter": {
     "hash": "70b38d7a306a849643e446cd70466270a13445e5987dfa1344ef2b127438fa4d"
    }
   }
  }
 },
 "nbformat": 4,
 "nbformat_minor": 2,
 "cells": [
  {
   "cell_type": "code",
   "execution_count": 1,
   "metadata": {},
   "outputs": [],
   "source": [
    "import networkx as nx\n",
    "import math"
   ]
  },
  {
   "cell_type": "code",
   "execution_count": 25,
   "metadata": {},
   "outputs": [],
   "source": [
    "#读取\n",
    "G1 = nx.read_edgelist('seed_G1.edgelist')\n",
    "G2 = nx.read_edgelist('seed_G2.edgelist')\n",
    "with open('seed_node_pairs.txt','r') as sp:\n",
    "    lines = sp.readlines()"
   ]
  },
  {
   "cell_type": "code",
   "execution_count": 26,
   "metadata": {},
   "outputs": [],
   "source": [
    "#获得G1 匹配的  与 G2 匹配的 并存入字典\n",
    "g1p = []\n",
    "g1pdir = {}\n",
    "g2p =[]\n",
    "g2pdir = {}"
   ]
  },
  {
   "cell_type": "code",
   "execution_count": 27,
   "metadata": {},
   "outputs": [],
   "source": [
    "for line in lines:\n",
    "    line = line.strip('\\n')\n",
    "    line = line.split(' ')\n",
    "    g1p.append(line[0])\n",
    "    g2p.append(line[1])\n",
    "    g1pdir[line[0]] = line[1]\n",
    "    g2pdir[line[1]] = line[0]"
   ]
  },
  {
   "cell_type": "code",
   "execution_count": 29,
   "metadata": {
    "tags": []
   },
   "outputs": [],
   "source": [
    "#获得未匹配过的 G1 与 G2 的 点\n",
    "l = []\n",
    "for i in G1.nodes:\n",
    "    l.append(int(i))\n",
    "y = sorted(l)\n",
    "with open('G1.txt','w') as f:\n",
    "    for j in range(len(y)):\n",
    "        f.write(str(y[j])+ \"\\n\") \n"
   ]
  }
 ]
}