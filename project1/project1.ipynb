{
 "metadata": {
  "language_info": {
   "codemirror_mode": {
    "name": "ipython",
    "version": 3
   },
   "file_extension": ".py",
   "mimetype": "text/x-python",
   "name": "python",
   "nbconvert_exporter": "python",
   "pygments_lexer": "ipython3",
   "version": "3.7.6"
  },
  "orig_nbformat": 2,
  "kernelspec": {
   "name": "python37664bitf46d56d6ffc34c998e980685763e37bb",
   "display_name": "Python 3.7.6 64-bit"
  },
  "metadata": {
   "interpreter": {
    "hash": "aee8b7b246df8f9039afb4144a1f6fd8d2ca17a180786b69acc140d282b71a49"
   }
  }
 },
 "nbformat": 4,
 "nbformat_minor": 2,
 "cells": [
  {
   "cell_type": "code",
   "execution_count": 23,
   "metadata": {},
   "outputs": [],
   "source": [
    "import networkx as nx\n",
    "import math\n",
    "import numpy as np"
   ]
  },
  {
   "source": [
    "#读取\n",
    "def get_seed(seed1,seed2,seed_pair):\n",
    "    G1 = nx.read_edgelist(seed1)\n",
    "    G2 = nx.read_edgelist(seed2)\n",
    "    with open(seed_pair,'r') as sp:\n",
    "        lines = sp.readlines()\n",
    "    return G1,G2,lines\n"
   ],
   "cell_type": "code",
   "metadata": {},
   "execution_count": 24,
   "outputs": []
  },
  {
   "cell_type": "code",
   "execution_count": 25,
   "metadata": {},
   "outputs": [],
   "source": [
    "#获得G1 匹配的  与 G2 匹配的 并存入字典\n",
    "def get_pair(lines):\n",
    "    g1p = []\n",
    "    g1pdir = {}\n",
    "    g2p =[]\n",
    "    for line in lines:\n",
    "        line = line.strip('\\n')\n",
    "        line = line.split(' ')\n",
    "        g1p.append(line[0])\n",
    "        g2p.append(line[1])\n",
    "        g1pdir[line[0]] = line[1]\n",
    "    return g1p,g2p,g1pdir"
   ]
  },
  {
   "cell_type": "code",
   "execution_count": 26,
   "metadata": {},
   "outputs": [],
   "source": [
    "\n",
    "#获得未匹配过的 G1 与 G2 的 点\n",
    "def get_unpair(G1,G2,g1p,g2p):\n",
    "    g1np = []\n",
    "    g2np = []\n",
    "    for i in G1.nodes:\n",
    "        if i not in g1p:\n",
    "            g1np.append(i)\n",
    "    for j in G2.nodes:\n",
    "        if j not in g2p:\n",
    "            g2np.append(j)\n",
    "    return g1np,g2np"
   ]
  },
  {
   "cell_type": "code",
   "execution_count": 27,
   "metadata": {},
   "outputs": [],
   "source": [
    "def get_degree(node_list,G):\n",
    "    degree_dir = {}\n",
    "    for i in node_list:\n",
    "        degree_dir[i] = G.degree(i)\n",
    "    return degree_dir"
   ]
  },
  {
   "cell_type": "code",
   "execution_count": 28,
   "metadata": {},
   "outputs": [],
   "source": [
    "def check_in_pairs(node,G,pair_list):\n",
    "    in_pair_list =[]\n",
    "    for neighbor in G.neighbors(node):\n",
    "        if neighbor in pair_list:\n",
    "            in_pair_list.append(neighbor)\n",
    "    return in_pair_list      "
   ]
  },
  {
   "cell_type": "code",
   "execution_count": 29,
   "metadata": {},
   "outputs": [],
   "source": [
    "def check_in_other_neighbor(neighbor_pair_list,other_G,pair_dir,other_node):\n",
    "    other_pair_list = []\n",
    "    for i in neighbor_pair_list:\n",
    "        other_pair_list.append(pair_dir[i])\n",
    "    count = 0\n",
    "    for j in other_pair_list:\n",
    "        if j in other_G.neighbors(other_node):\n",
    "            count +=1\n",
    "    return count"
   ]
  },
  {
   "cell_type": "code",
   "execution_count": 30,
   "metadata": {},
   "outputs": [],
   "source": [
    "def get_score(node1_degree,node2_degree,count):\n",
    "    score = count/((math.sqrt(node1_degree))*(node2_degree))\n",
    "    return score"
   ]
  },
  {
   "cell_type": "code",
   "execution_count": 31,
   "metadata": {},
   "outputs": [],
   "source": [
    "def get_ECCE (score_list):\n",
    "    std = np.std(score_list)\n",
    "    max1 = max(score_list)\n",
    "    score_list.remove(max1)\n",
    "    max2 = max(score_list)\n",
    "    reslut = (max1-max2)/std\n",
    "    return reslut"
   ]
  },
  {
   "cell_type": "code",
   "execution_count": 32,
   "metadata": {},
   "outputs": [],
   "source": [
    "def get_key (dict, value):\n",
    "    for k, v in dict.items():\n",
    "         if v == value:\n",
    "             a = k \n",
    "    return a"
   ]
  },
  {
   "cell_type": "code",
   "execution_count": 33,
   "metadata": {},
   "outputs": [],
   "source": [
    "def G1_node_compare_G2(node,G1,G1_pair,G2,G1_pair_dir,G1_unpair_degree_dir,G2_unpair_degree_dir,G2_unpair):\n",
    "    node_pair_list = check_in_pairs(node,G1,G1_pair)\n",
    "    G2_node_and_score = {}\n",
    "    for j in G2_unpair:\n",
    "        count = check_in_other_neighbor(node_pair_list,G2,G1_pair_dir,j)\n",
    "        score = get_score(G1_unpair_degree_dir[node],G2_unpair_degree_dir[j],count)\n",
    "        G2_node_and_score[j] = score\n",
    "\n",
    "    score_list = list(G2_node_and_score.values())\n",
    "    max_score_G2_node = get_key(G2_node_and_score,max(score_list))\n",
    "    ECCE_score = get_ECCE(score_list)\n",
    "    return ECCE_score, max_score_G2_node\n"
   ]
  },
  {
   "cell_type": "code",
   "execution_count": 34,
   "metadata": {},
   "outputs": [],
   "source": [
    "def update_pair(ecce,node1,node2,v,G1_pair,G2_pair,G1_pair_dir,G1_unpair,G2_unpair):\n",
    "    if ecce > v:\n",
    "        G1_pair.append(node1)\n",
    "        G2_pair.append(node2)\n",
    "        G1_pair_dir[node1] = node2\n",
    "        G1_unpair.remove(node1)\n",
    "        G2_unpair.remove(node2)\n",
    "    return G1_pair,G2_pair,G1_pair_dir,G1_unpair,G2_unpair\n",
    "        "
   ]
  },
  {
   "cell_type": "code",
   "execution_count": 35,
   "metadata": {},
   "outputs": [],
   "source": [
    "def get_result(v,G1,G2,G1_pair,G2_pair,G1_pair_dir,G1_unpair,G2_unpair,G1_unpair_degree_dir,G2_unpair_degree_dir):\n",
    "    for node in G1_unpair:\n",
    "        ecce,max_node = G1_node_compare_G2(node,G1,G1_pair,G2,G1_pair_dir,G1_unpair_degree_dir,G2_unpair_degree_dir,G2_unpair)\n",
    "        G1_pair,G2_pair,G1_pair_dir,G1_unpair,G2_unpair = update_pair(ecce,node,max_node,v,G1_pair,G2_pair,G1_pair_dir,G1_unpair,G2_unpair)\n",
    "\n",
    "    return G1_pair,G2_pair,G1_pair_dir,G1_unpair,G2_unpair\n",
    "\n",
    "        \n"
   ]
  },
  {
   "cell_type": "code",
   "execution_count": 36,
   "metadata": {},
   "outputs": [],
   "source": [
    "def running (seed1,seed2,seed_pair,v):\n",
    "    G1,G2,node_pairs = get_seed(seed1,seed2,seed_pair)\n",
    "    G1_pair,G2_pair,G1_pair_dir = get_pair(node_pairs)\n",
    "    G1_unpair,G2_unpair = get_unpair(G1,G2,G1_pair,G2_pair)\n",
    "    G1_unpair_degree_dir = get_degree(G1_unpair,G1)\n",
    "    G2_unpair_degree_dir = get_degree(G2_unpair,G2)\n",
    "\n",
    "    G1_pair,G2_pair,G1_pair_dir,G1_unpair,G2_unpair = get_result(v,G1,G2,G1_pair,G2_pair,G1_pair_dir,G1_unpair,G2_unpair,G1_unpair_degree_dir,G2_unpair_degree_dir)\n",
    "    return G1_pair,G2_pair,G1_pair_dir,G1_unpair,G2_unpair"
   ]
  },
  {
   "cell_type": "code",
   "execution_count": 43,
   "metadata": {},
   "outputs": [
    {
     "output_type": "stream",
     "name": "stderr",
     "text": [
      "/Library/Frameworks/Python.framework/Versions/3.7/lib/python3.7/site-packages/ipykernel_launcher.py:6: RuntimeWarning: invalid value encountered in double_scalars\n  \n"
     ]
    }
   ],
   "source": [
    "if __name__==\"__main__\":\n",
    "    seed1 = 'seed_G1.edgelist'\n",
    "    seed2 = 'seed_G2.edgelist'\n",
    "    seed_pair = 'seed_node_pairs.txt'\n",
    "    v = 20\n",
    "    G1_pair,G2_pair,G1_pair_dir,G1_unpair,G2_unpair = running(seed1,seed2,seed_pair,v)\n",
    "    "
   ]
  },
  {
   "cell_type": "code",
   "execution_count": 52,
   "metadata": {},
   "outputs": [
    {
     "output_type": "stream",
     "name": "stdout",
     "text": [
      "500\n"
     ]
    }
   ],
   "source": [
    "print(len(G1_pair))"
   ]
  },
  {
   "cell_type": "code",
   "execution_count": null,
   "metadata": {},
   "outputs": [],
   "source": []
  }
 ]
}