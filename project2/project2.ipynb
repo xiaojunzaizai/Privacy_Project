{
 "metadata": {
  "language_info": {
   "codemirror_mode": {
    "name": "ipython",
    "version": 3
   },
   "file_extension": ".py",
   "mimetype": "text/x-python",
   "name": "python",
   "nbconvert_exporter": "python",
   "pygments_lexer": "ipython3",
   "version": "3.7.6"
  },
  "orig_nbformat": 2,
  "kernelspec": {
   "name": "python37664bite575340ac3344562b3492a72d57f1f44",
   "display_name": "Python 3.7.6 64-bit"
  },
  "metadata": {
   "interpreter": {
    "hash": "aee8b7b246df8f9039afb4144a1f6fd8d2ca17a180786b69acc140d282b71a49"
   }
  }
 },
 "nbformat": 4,
 "nbformat_minor": 2,
 "cells": [
  {
   "cell_type": "code",
   "execution_count": 1,
   "metadata": {},
   "outputs": [],
   "source": [
    "import project1 as p1\n",
    "import networkx as nx\n",
    "import math\n",
    "import numpy as np"
   ]
  },
  {
   "cell_type": "code",
   "execution_count": 2,
   "metadata": {},
   "outputs": [],
   "source": [
    "def get_graph(seed1,seed2):\n",
    "    G1 = nx.read_edgelist(seed1)\n",
    "    G2 = nx.read_edgelist(seed2)\n",
    "    return G1,G2"
   ]
  },
  {
   "cell_type": "code",
   "execution_count": 3,
   "metadata": {},
   "outputs": [],
   "source": [
    "def get_nodes_degree(G):\n",
    "    G_node_list = list(G.nodes())\n",
    "    node_degree_dir = p1.get_degree(G_node_list,G)\n",
    "    return node_degree_dir"
   ]
  },
  {
   "cell_type": "code",
   "execution_count": 4,
   "metadata": {},
   "outputs": [],
   "source": [
    "def get_clustering(G):\n",
    "    return nx.clustering(G)"
   ]
  },
  {
   "cell_type": "code",
   "execution_count": 96,
   "metadata": {},
   "outputs": [],
   "source": [
    "def calculate_difference(node1,node2,G1,G2,G1_node_degree_dir,G2_node_degree_dir,G1_clust,G2_clust):\n",
    "    node1_degree = G1_node_degree_dir[node1]\n",
    "    node2_degree = G2_node_degree_dir[node2]\n",
    "\n",
    "    degree_difference = abs( node1_degree - node2_degree)\n",
    "\n",
    "    clust_difference = abs(G1_clust[node1] - G2_clust[node2])\n",
    "\n",
    "    s1 = 0\n",
    "    s2 = 0\n",
    "    for neighbor_node1 in G1.neighbors(node1):\n",
    "        s1 = s1 + G1_node_degree_dir[neighbor_node1]\n",
    "    for neighbor_node2 in G2.neighbors(node2):\n",
    "        s2 = s2 + G2_node_degree_dir[neighbor_node2]\n",
    "\n",
    "    average_degree_of_node1_neighbor = s1/node1_degree\n",
    "    average_degree_of_node2_neighbor = s2/node2_degree\n",
    "\n",
    "    average_degree_of_neighbor_difference = abs( average_degree_of_node1_neighbor - average_degree_of_node2_neighbor )\n",
    "    return (degree_difference+clust_difference)+average_degree_of_neighbor_difference\n"
   ]
  },
  {
   "cell_type": "code",
   "execution_count": 6,
   "metadata": {},
   "outputs": [],
   "source": [
    "if __name__==\"__main__\":\n",
    "    seed1 = 'validation_G1.edgelist'\n",
    "    seed2 = 'validation_G2.edgelist'\n",
    "    seed_pair = 'validation_seed_mapping.txt'\n",
    "\n",
    "    G1,G2,node_pairs = p1.get_seed(seed1,seed2,seed_pair)\n",
    "    G1_pair,G2_pair,G1_pair_dir = p1.get_pair(node_pairs)\n",
    "    \n",
    "    G1_node_degree_dir = get_nodes_degree(G1)\n",
    "    G2_node_degree_dir = get_nodes_degree(G2)\n",
    "\n",
    "    G1_clust = get_clustering(G1)\n",
    "    G2_clust = get_clustering(G2)\n",
    "\n",
    "    \n",
    "    "
   ]
  },
  {
   "cell_type": "code",
   "execution_count": 7,
   "metadata": {},
   "outputs": [
    {
     "output_type": "stream",
     "name": "stdout",
     "text": [
      "27770\n"
     ]
    }
   ],
   "source": [
    "print(len(G1_pair))"
   ]
  },
  {
   "cell_type": "code",
   "execution_count": 101,
   "metadata": {},
   "outputs": [],
   "source": [
    "\n",
    "G1_nodes = list(G1.nodes())\n",
    "G2_nodes = list(G2.nodes())\n",
    "a = {}\n",
    "for j in G1_nodes:\n",
    "    node1 = j\n",
    "    for i in G2_nodes:\n",
    "        node2 = i\n",
    "        result = calculate_difference(node1,node2,G1,G2,G1_node_degree_dir,G2_node_degree_dir,G1_clust,G2_clust)\n",
    "        if result <1:\n",
    "            a[j] = i\n",
    "            G2_nodes.remove(i)\n",
    "            break\n",
    "        "
   ]
  },
  {
   "cell_type": "code",
   "execution_count": 102,
   "metadata": {},
   "outputs": [
    {
     "output_type": "stream",
     "name": "stdout",
     "text": [
      "{'21472': '1443'}\n"
     ]
    }
   ],
   "source": [
    "print(a)"
   ]
  },
  {
   "cell_type": "code",
   "execution_count": 93,
   "metadata": {},
   "outputs": [
    {
     "output_type": "stream",
     "name": "stdout",
     "text": [
      "2.0304293681303808e-05\n"
     ]
    }
   ],
   "source": [
    "print(min(b))"
   ]
  },
  {
   "cell_type": "code",
   "execution_count": 80,
   "metadata": {},
   "outputs": [
    {
     "output_type": "stream",
     "name": "stdout",
     "text": [
      "0.352941176470587\n"
     ]
    }
   ],
   "source": [
    "print(a['3783'])"
   ]
  },
  {
   "cell_type": "code",
   "execution_count": null,
   "metadata": {},
   "outputs": [],
   "source": []
  }
 ]
}