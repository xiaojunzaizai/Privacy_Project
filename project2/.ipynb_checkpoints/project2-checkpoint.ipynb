{
 "cells": [
  {
   "cell_type": "code",
   "execution_count": 1,
   "metadata": {},
   "outputs": [],
   "source": [
    "import project1 as p1\n",
    "import networkx as nx\n",
    "import math\n",
    "import numpy as np"
   ]
  },
  {
   "cell_type": "code",
   "execution_count": 2,
   "metadata": {},
   "outputs": [],
   "source": [
    "def get_graph(seed1,seed2):\n",
    "    G1 = nx.read_edgelist(seed1)\n",
    "    G2 = nx.read_edgelist(seed2)\n",
    "    return G1,G2"
   ]
  },
  {
   "cell_type": "code",
   "execution_count": 3,
   "metadata": {},
   "outputs": [],
   "source": [
    "def get_nodes_degree(G):\n",
    "    G_node_list = list(G.nodes())\n",
    "    node_degree_dir = p1.get_degree(G_node_list,G)\n",
    "    return node_degree_dir"
   ]
  },
  {
   "cell_type": "code",
   "execution_count": 4,
   "metadata": {},
   "outputs": [],
   "source": [
    "def get_clustering(G):\n",
    "    return nx.clustering(G)"
   ]
  },
  {
   "cell_type": "code",
   "execution_count": 5,
   "metadata": {},
   "outputs": [],
   "source": [
    "def calculate_difference(node1,node2,G1,G2,G1_node_degree_dir,G2_node_degree_dir,G1_clust,G2_clust):\n",
    "    node1_degree = G1_node_degree_dir[node1]\n",
    "    node2_degree = G2_node_degree_dir[node2]\n",
    "\n",
    "    degree_difference = abs( node1_degree - node2_degree)\n",
    "\n",
    "    clust_difference = abs(G1_clust[node1] - G2_clust[node2])\n",
    "\n",
    "    s1 = 0\n",
    "    s2 = 0\n",
    "    for neighbor_node1 in G1.neighbors(node1):\n",
    "        s1 = s1 + G1_node_degree_dir[neighbor_node1]\n",
    "    for neighbor_node2 in G2.neighbors(node2):\n",
    "        s2 = s2 + G2_node_degree_dir[neighbor_node2]\n",
    "\n",
    "    average_degree_of_node1_neighbor = s1/node1_degree\n",
    "    average_degree_of_node2_neighbor = s2/node2_degree\n",
    "\n",
    "    average_degree_of_neighbor_difference = abs( average_degree_of_node1_neighbor - average_degree_of_node2_neighbor )\n",
    "    return (degree_difference+clust_difference)+average_degree_of_neighbor_difference\n"
   ]
  },
  {
   "cell_type": "code",
   "execution_count": 6,
   "metadata": {},
   "outputs": [],
   "source": [
    "def get_pairs(G1,G2,G1_node_degree_dir,G2_node_degree_dir,G1_clust,G2_clust):\n",
    "    G1_nodes = list(G1.nodes())\n",
    "    G2_nodes = list(G2.nodes())\n",
    "\n",
    "    b = {}\n",
    "    temp = []\n",
    "    c = {}\n",
    "    for j in G1_nodes:\n",
    "        node1 = j\n",
    "        a = {}\n",
    "        for i in G2_nodes:\n",
    "            node2 = i\n",
    "            result = calculate_difference(node1,node2,G1,G2,G1_node_degree_dir,G2_node_degree_dir,G1_clust,G2_clust)\n",
    "            a[i] = result\n",
    "        \n",
    "        min_key = min(a, key = a.get)\n",
    "        if min_key not in temp:\n",
    "            temp.append(min_key)\n",
    "            b[j] = (a[min_key])\n",
    "            c[j] = min_key\n",
    "        else:\n",
    "            key = p1.get_key(c,min_key)\n",
    "            if b[key] > a[min_key]:\n",
    "                b.pop(key)\n",
    "                c.pop(key)\n",
    "                b[j] = (a[min_key])\n",
    "                c[j] = min_key\n",
    "    return c,b"
   ]
  },
  {
   "cell_type": "code",
   "execution_count": 7,
   "metadata": {},
   "outputs": [],
   "source": [
    "def get_topK(c,b,k):\n",
    "    new_b = sorted(b.items(), key = lambda kv:(kv[1], kv[0]))\n",
    "    G1_pair = []\n",
    "    G2_pair = []\n",
    "    G1_pair_dir = {}\n",
    "    for i in range(k):\n",
    "        node = new_b[i][0]\n",
    "        G1_pair.append(node)\n",
    "        G2_pair.append(c[node])\n",
    "        G1_pair_dir[node] = c[node]\n",
    "    return G1_pair,G2_pair,G1_pair_dir "
   ]
  },
  {
   "cell_type": "code",
   "execution_count": 8,
   "metadata": {},
   "outputs": [],
   "source": [
    "if __name__==\"__main__\":\n",
    "    seed1 = 'validation_G1.edgelist'\n",
    "    seed2 = 'validation_G2.edgelist'\n",
    "    seed_pair = 'validation_seed_mapping.txt'\n",
    "\n",
    "    G1,G2,node_pairs = p1.get_seed(seed1,seed2,seed_pair)\n",
    "    G1_pair,G2_pair,G1_pair_dir = p1.get_pair(node_pairs)\n",
    "    \n",
    "    G1_node_degree_dir = get_nodes_degree(G1)\n",
    "    G2_node_degree_dir = get_nodes_degree(G2)\n",
    "\n",
    "    G1_clust = get_clustering(G1)\n",
    "    G2_clust = get_clustering(G2)\n",
    "\n",
    "    new_node_pairs,nodes_difference = get_pairs(G1,G2,G1_node_degree_dir,G2_node_degree_dir,G1_clust,G2_clust)\n",
    "\n",
    "    k = 1000\n",
    "    v = 0.5\n",
    "\n",
    "    new_G1_pair,new_G2_pair,new_G1_pair_dir  = get_topK(new_node_pairs,nodes_difference,k)\n",
    "    G1_unpair,G2_unpair = p1.get_unpair(G1,G2,new_G1_pair,new_G2_pair)\n",
    "    final_G1_pair,final_G2_pair,final_G1_pair_dir,final_G1_unpair,final_G2_unpair = p1.get_result(v,G1,G2,new_G1_pair,new_G2_pair,new_G1_pair_dir,G1_unpair,G2_unpair,G1_node_degree_dir,G2_node_degree_dir)\n",
    "    "
   ]
  },
  {
   "cell_type": "code",
   "execution_count": 9,
   "metadata": {},
   "outputs": [
    {
     "name": "stdout",
     "output_type": "stream",
     "text": [
      "0.02542311847317249\n"
     ]
    }
   ],
   "source": [
    "    count = 0\n",
    "    for i in final_G1_pair:\n",
    "        if i in G1_pair and final_G1_pair_dir[i] == G1_pair_dir[i]:\n",
    "            count +=1\n",
    "    \n",
    "    accuracy = count/len(G1_pair)\n",
    "    print(accuracy)\n",
    "            \n",
    "        "
   ]
  },
  {
   "cell_type": "code",
   "execution_count": 10,
   "metadata": {},
   "outputs": [
    {
     "name": "stdout",
     "output_type": "stream",
     "text": [
      "10074\n"
     ]
    }
   ],
   "source": [
    "print(len(final_G1_pair))"
   ]
  },
  {
   "cell_type": "code",
   "execution_count": 11,
   "metadata": {},
   "outputs": [],
   "source": [
    "with open('pairs.txt','w')as f:\n",
    "    for i in final_G1_pair:\n",
    "        s = i + ' ' + final_G1_pair_dir[i]+'\\n'\n",
    "        f.write(s) "
   ]
  },
  {
   "cell_type": "code",
   "execution_count": null,
   "metadata": {},
   "outputs": [],
   "source": []
  }
 ],
 "metadata": {
  "kernelspec": {
   "display_name": "Python 3.7.6 64-bit",
   "language": "python",
   "name": "python37664bite575340ac3344562b3492a72d57f1f44"
  },
  "language_info": {
   "codemirror_mode": {
    "name": "ipython",
    "version": 3
   },
   "file_extension": ".py",
   "mimetype": "text/x-python",
   "name": "python",
   "nbconvert_exporter": "python",
   "pygments_lexer": "ipython3",
   "version": "3.7.6"
  },
  "metadata": {
   "interpreter": {
    "hash": "aee8b7b246df8f9039afb4144a1f6fd8d2ca17a180786b69acc140d282b71a49"
   }
  }
 },
 "nbformat": 4,
 "nbformat_minor": 2
}
